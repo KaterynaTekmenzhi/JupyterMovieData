{
 "cells": [
  {
   "cell_type": "code",
   "execution_count": 13,
   "metadata": {},
   "outputs": [
    {
     "name": "stdout",
     "output_type": "stream",
     "text": [
      "Fetched 363654 characters from https://www.metacritic.com/browse/movie/all/all/2014/metascore/?page=1: 200\n",
      "Found 24 matches\n"
     ]
    }
   ],
   "source": [
    "# Purpose: Web scraping Metacritic with Python\n",
    "\n",
    "# urllib3 is a powerful, user-friendly HTTP client for Python.\n",
    "import urllib3\n",
    "\n",
    "# certifi is a Python package that provides Mozilla's carefully curated collection of Root Certificates \n",
    "# for validating the trustworthiness of SSL certificates while verifying the identity of TLS hosts.\n",
    "import certifi\n",
    "\n",
    "year = 2014\n",
    "page = 1\n",
    "\n",
    "# the link to the page we want to scrape\n",
    "link = f\"https://www.metacritic.com/browse/movie/all/all/{year}/metascore/?page={page}\"\n",
    "\n",
    "# create a PoolManager, which handles all details of connection pooling, thread-safety, and certificate management.\n",
    "http = urllib3.PoolManager(ca_certs=certifi.where())\n",
    "\n",
    "# request the page and get the response, which is an HTTPResponse object\n",
    "# the response object has data, status, and headers attributes \n",
    "response = http.request('GET', link, headers={'User-Agent': 'Mozilla/5.0'})\n",
    "datastring = str(response.data, \"utf-8\")\n",
    "\n",
    "# print the characters fetched and the status code\n",
    "print(f\"Fetched {len(datastring)} characters from {link}: {response.status}\")\n",
    "\n",
    "# re is a module that provides regular expression matching operations\n",
    "# compile() returns a Regex pattern object\n",
    "import re\n",
    "\n",
    "# the pattern we want to match is a movie title in the HTML\n",
    "movie_title = re.compile(r'<div data-title=\"(.*?)\\\"')\n",
    "\n",
    "# findall() returns all non-overlapping matches of pattern in string, as a list of strings\n",
    "matches = movie_title.findall(datastring)\n",
    "\n",
    "# print the number of matches\n",
    "print(f\"Found {len(matches)} matches\")"
   ]
  }
 ],
 "metadata": {
  "kernelspec": {
   "display_name": "base",
   "language": "python",
   "name": "python3"
  },
  "language_info": {
   "codemirror_mode": {
    "name": "ipython",
    "version": 3
   },
   "file_extension": ".py",
   "mimetype": "text/x-python",
   "name": "python",
   "nbconvert_exporter": "python",
   "pygments_lexer": "ipython3",
   "version": "3.11.4"
  },
  "orig_nbformat": 4
 },
 "nbformat": 4,
 "nbformat_minor": 2
}
