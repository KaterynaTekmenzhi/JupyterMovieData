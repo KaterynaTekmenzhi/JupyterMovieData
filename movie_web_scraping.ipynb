{
 "cells": [
  {
   "cell_type": "code",
   "execution_count": 1,
   "metadata": {},
   "outputs": [],
   "source": [
    "# Purpose: Web scraping Metacritic with Python\n",
    "\n",
    "# urllib3 is a powerful, user-friendly HTTP client for Python.\n",
    "import urllib3\n",
    "\n",
    "# certifi is a Python package that provides Mozilla's carefully curated collection of Root Certificates \n",
    "# for validating the trustworthiness of SSL certificates while verifying the identity of TLS hosts.\n",
    "import certifi\n",
    "\n",
    "year = 2014\n",
    "page = 1"
   ]
  },
  {
   "cell_type": "code",
   "execution_count": 2,
   "metadata": {},
   "outputs": [],
   "source": [
    "# the link to the page we want to scrape\n",
    "link = f\"https://www.metacritic.com/browse/movie/all/all/{year}/metascore/?page={page}\"\n",
    "\n",
    "# create a PoolManager, which handles all details of connection pooling, thread-safety, and certificate management.\n",
    "http = urllib3.PoolManager(ca_certs=certifi.where())"
   ]
  },
  {
   "cell_type": "code",
   "execution_count": 3,
   "metadata": {},
   "outputs": [
    {
     "name": "stdout",
     "output_type": "stream",
     "text": [
      "Fetched 367175 characters from https://www.metacritic.com/browse/movie/all/all/2014/metascore/?page=1: 200\n"
     ]
    }
   ],
   "source": [
    "# request the page and get the response, which is an HTTPResponse object\n",
    "# the response object has data, status, and headers attributes \n",
    "response = http.request('GET', link, headers={'User-Agent': 'Mozilla/5.0'})\n",
    "datastring = str(response.data, \"utf-8\")\n",
    "\n",
    "# print the characters fetched and the status code\n",
    "print(f\"Fetched {len(datastring)} characters from {link}: {response.status}\")"
   ]
  },
  {
   "cell_type": "code",
   "execution_count": 4,
   "metadata": {},
   "outputs": [],
   "source": [
    "# re is a module that provides regular expression matching operations\n",
    "import re"
   ]
  },
  {
   "cell_type": "code",
   "execution_count": 5,
   "metadata": {},
   "outputs": [],
   "source": [
    "# compile() returns a Regex pattern object\n",
    "# the pattern we want to match is a movie title in the HTML\n",
    "movie_title = re.compile(r'<div data-title=\"(.*?)\\\"')\n",
    "# findall() returns all non-overlapping matches of pattern in string, as a list of strings\n",
    "movie_title_matches = movie_title.findall(datastring)"
   ]
  },
  {
   "cell_type": "code",
   "execution_count": 6,
   "metadata": {},
   "outputs": [],
   "source": [
    "# compile() returns a Regex pattern object\n",
    "# the pattern we want to match is a release date in the HTML\n",
    "release_date = re.compile(r'<span class=\"u-text-uppercase\">\\s+(.*)\\s+<\\/span>')\n",
    "dates = release_date.findall(datastring)\n"
   ]
  },
  {
   "cell_type": "code",
   "execution_count": 7,
   "metadata": {},
   "outputs": [],
   "source": [
    "# the pattern we want to match is a metascore in the HTML\n",
    "metascore = re.compile(r'<div title=\"Metascore\\s(.*?)\"')\n",
    "metascore_matches = metascore.findall(datastring)"
   ]
  },
  {
   "cell_type": "code",
   "execution_count": 8,
   "metadata": {},
   "outputs": [],
   "source": [
    "# the pattern we want to match is a thumbnail URL in the HTML\n",
    "thumbnail = re.compile(r'<img src=\"(.*?)\" height')\n",
    "thumbnail_matches = thumbnail.findall(datastring)\n",
    "\n",
    "fixed = []\n",
    "for link in thumbnail_matches:\n",
    "    #print(link)\n",
    "    link = link.replace(\"&amp;\", \"&\")\n",
    "    fixed.append(link)\n",
    "#print(fixed)\n",
    "thumbnail_matches = fixed"
   ]
  },
  {
   "cell_type": "code",
   "execution_count": 9,
   "metadata": {},
   "outputs": [],
   "source": [
    "# the pattern we want to match is a description in the HTML\n",
    "description = re.compile(r'<div class=\"c-finderProductCard_description\"><span>(.*?)<')\n",
    "description_matches = description.findall(datastring)"
   ]
  },
  {
   "cell_type": "code",
   "execution_count": 10,
   "metadata": {},
   "outputs": [
    {
     "name": "stdout",
     "output_type": "stream",
     "text": [
      "Found 24 matches\n"
     ]
    }
   ],
   "source": [
    "# print the number of matches\n",
    "print(f\"Found {len(movie_title_matches)} matches\")"
   ]
  },
  {
   "cell_type": "code",
   "execution_count": 11,
   "metadata": {},
   "outputs": [],
   "source": [
    "# pandas is a fast, powerful, flexible and easy to use open source data analysis and manipulation tool,\n",
    "# built on top of the Python programming language.\n",
    "# openpyxl is a Python library to read/write Excel 2010 xlsx/xlsm/xltx/xltm files.\n",
    "import pandas as pd\n",
    "import openpyxl"
   ]
  },
  {
   "cell_type": "code",
   "execution_count": 12,
   "metadata": {},
   "outputs": [],
   "source": [
    "# create a dataframe with the data we scraped\n",
    "# like a spreadsheet or SQL table, or a dict of Series objects.\n",
    "# the data we scraped is stored in lists, so we can create a dataframe from a dict of lists.\n",
    "\n",
    "df = pd.DataFrame()\n",
    "df['Movie Title'] = movie_title_matches\n",
    "df['Release Date'] = dates\n",
    "df['Metascore'] = metascore_matches\n",
    "df['Thumbnail'] = thumbnail_matches\n",
    "df['Description'] = description_matches"
   ]
  },
  {
   "cell_type": "code",
   "execution_count": 13,
   "metadata": {},
   "outputs": [],
   "source": [
    "# a way to organize columns in data frames if called upon\n",
    "# data = {'Movie Title': movie_title_matches, 'Release Date': dates}\n",
    "\n",
    "## print dataframe instead of opening excel file output  \n",
    "#print(df)\n",
    "\n",
    "# write the dataframe to an excel file\n",
    "df.to_excel(\"newoutput.xlsx\")"
   ]
  }
 ],
 "metadata": {
  "kernelspec": {
   "display_name": "base",
   "language": "python",
   "name": "python3"
  },
  "language_info": {
   "codemirror_mode": {
    "name": "ipython",
    "version": 3
   },
   "file_extension": ".py",
   "mimetype": "text/x-python",
   "name": "python",
   "nbconvert_exporter": "python",
   "pygments_lexer": "ipython3",
   "version": "3.11.4"
  },
  "orig_nbformat": 4
 },
 "nbformat": 4,
 "nbformat_minor": 2
}
